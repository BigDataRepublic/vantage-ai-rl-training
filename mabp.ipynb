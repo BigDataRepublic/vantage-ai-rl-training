{
 "cells": [
  {
   "cell_type": "code",
   "execution_count": null,
   "metadata": {},
   "outputs": [],
   "source": [
    "from mabpagents import Bandit \n",
    "from mabpagents import *\n",
    "import matplotlib.pyplot as plt\n",
    "\n",
    "pay_offs = [0.25, 0.3, 0.5, 0.1, 0.3, 0.25, 0]\n",
    "bandit = Bandit(pay_offs)\n",
    "\n",
    "methods = {'random_agent':random_agent, 'explore_greedy_agent':explore_greedy_agent, 'epsilon_greedy_agent':epsilon_greedy_agent, 'decaying_epsilon_greedy_agent':decaying_epsilon_greedy_agent, 'optimistic_greedy_agent':optimistic_greedy_agent, 'ucb_agent':ucb_agent, 'thompson_agent':thompson_agent, 'optimal_agent':optimal_agent}\n",
    "results = dict()\n",
    "\n",
    "number_of_iterations = 2000\n",
    "number_of_trials = 50\n",
    "\n",
    "for m in methods.keys():\n",
    "    method = methods[m]\n",
    "    all_rewards = []\n",
    "    total_rewards = []\n",
    "    cumulative_reward = []\n",
    "\n",
    "    for trial in range(number_of_trials):\n",
    "        total_reward = 0\n",
    "\n",
    "        actions, rewards = method(bandit, number_of_iterations)\n",
    "        all_rewards.append(rewards)\n",
    "        total_reward += sum(rewards)\n",
    "        cumulative_reward.append(total_reward)\n",
    "\n",
    "    results[m] = all_rewards\n",
    "    print('Agent:                 ', m)\n",
    "    print('Avg cumulative reward: ', np.mean(cumulative_reward))"
   ]
  },
  {
   "cell_type": "code",
   "execution_count": null,
   "metadata": {},
   "outputs": [],
   "source": [
    "# create a plot of the results\n",
    "plt.figure(figsize=(12,10))\n",
    "\n",
    "for agent in methods.keys():\n",
    "    mean_reward_per_iteration = np.mean(results[agent],axis=0)\n",
    "    mean_cum_reward_per_it = np.cumsum(mean_reward_per_iteration)\n",
    "    plt.plot(mean_cum_reward_per_it, label=agent)\n",
    "\n",
    "plt.ylabel('Average cumulative reward')\n",
    "plt.xlabel('Iteration')\n",
    "plt.legend()\n",
    "plt.show()"
   ]
  },
  {
   "cell_type": "code",
   "execution_count": null,
   "metadata": {},
   "outputs": [],
   "source": []
  }
 ],
 "metadata": {
  "kernelspec": {
   "display_name": "Python 3.9.13 ('basicml')",
   "language": "python",
   "name": "python3"
  },
  "language_info": {
   "codemirror_mode": {
    "name": "ipython",
    "version": 3
   },
   "file_extension": ".py",
   "mimetype": "text/x-python",
   "name": "python",
   "nbconvert_exporter": "python",
   "pygments_lexer": "ipython3",
   "version": "3.9.13"
  },
  "orig_nbformat": 4,
  "vscode": {
   "interpreter": {
    "hash": "06112c5af61d71004857996d2cb05cefbc1a0eb423c41303b6bf821b68f9bb64"
   }
  }
 },
 "nbformat": 4,
 "nbformat_minor": 2
}
